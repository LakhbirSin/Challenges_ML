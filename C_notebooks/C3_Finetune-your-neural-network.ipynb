{
 "cells": [
  {
   "cell_type": "markdown",
   "metadata": {},
   "source": [
    "# Finetune your Neural Network\n",
    "\n",
    "**Exercise objectives:**\n",
    "- `Finetune` the model optimizer\n",
    "- `Save` and `Load` a `trained neural network`\n",
    "\n",
    "<hr>\n",
    "\n",
    "Now that you have solid foundations of what Neural Networks, how to design their architecture and how to regularize them, let's take a closer look at the `.compile(loss = ..., metrics = ..., activation = ...)` part.\n",
    "\n",
    "# Data\n",
    "\n",
    "We will use the data from the `Boston Housing dataset`. \n",
    "\n",
    "Our goal is to `predict the values of the houses` (in k USD), and we will measure our models' performances  using the `Mean Absolute Error` metrics"
   ]
  },
  {
   "cell_type": "code",
   "execution_count": 24,
   "metadata": {},
   "outputs": [],
   "source": [
    "import numpy as np\n",
    "import pandas as pd\n",
    "from tensorflow.keras.datasets import boston_housing\n",
    "import matplotlib.pyplot as plt\n",
    "import seaborn as sns\n",
    "%matplotlib inline\n",
    "from keras.models import load_model\n",
    "from keras.callbacks import ModelCheckpoint\n",
    "from sklearn.preprocessing import StandardScaler\n",
    "from sklearn.metrics import mean_absolute_error, mean_squared_error\n",
    "from tensorflow.keras import models\n",
    "from tensorflow.keras import layers\n",
    "from keras.models import Sequential\n",
    "from tensorflow.keras.callbacks import EarlyStopping\n",
    "from keras.optimizers import Adam"
   ]
  },
  {
   "cell_type": "code",
   "execution_count": 2,
   "metadata": {},
   "outputs": [
    {
     "data": {
      "text/plain": [
       "<AxesSubplot:ylabel='Count'>"
      ]
     },
     "execution_count": 2,
     "metadata": {},
     "output_type": "execute_result"
    },
    {
     "data": {
      "image/png": "[encoded data removed]",
      "text/plain": [
       "<Figure size 432x288 with 1 Axes>"
      ]
     },
     "metadata": {
      "needs_background": "light"
     },
     "output_type": "display_data"
    }
   ],
   "source": [
    "(X_train, y_train), (X_test, y_test) = boston_housing.load_data()\n",
    "X_train.shape\n",
    "sns.histplot(y_train)"
   ]
  },
  {
   "cell_type": "code",
   "execution_count": 3,
   "metadata": {},
   "outputs": [
    {
     "name": "stdout",
     "output_type": "stream",
     "text": [
      "<class 'pandas.core.frame.DataFrame'>\n",
      "RangeIndex: 404 entries, 0 to 403\n",
      "Data columns (total 13 columns):\n",
      " #   Column  Non-Null Count  Dtype  \n",
      "---  ------  --------------  -----  \n",
      " 0   0       404 non-null    float64\n",
      " 1   1       404 non-null    float64\n",
      " 2   2       404 non-null    float64\n",
      " 3   3       404 non-null    float64\n",
      " 4   4       404 non-null    float64\n",
      " 5   5       404 non-null    float64\n",
      " 6   6       404 non-null    float64\n",
      " 7   7       404 non-null    float64\n",
      " 8   8       404 non-null    float64\n",
      " 9   9       404 non-null    float64\n",
      " 10  10      404 non-null    float64\n",
      " 11  11      404 non-null    float64\n",
      " 12  12      404 non-null    float64\n",
      "dtypes: float64(13)\n",
      "memory usage: 41.2 KB\n"
     ]
    }
   ],
   "source": [
    "pd.DataFrame(X_train).info()"
   ]
  },
  {
   "cell_type": "code",
   "execution_count": 4,
   "metadata": {},
   "outputs": [
    {
     "data": {
      "text/html": [
       "<div>\n",
       "<style scoped>\n",
       "    .dataframe tbody tr th:only-of-type {\n",
       "        vertical-align: middle;\n",
       "    }\n",
       "\n",
       "    .dataframe tbody tr th {\n",
       "        vertical-align: top;\n",
       "    }\n",
       "\n",
       "    .dataframe thead th {\n",
       "        text-align: right;\n",
       "    }\n",
       "</style>\n",
       "<table border=\"1\" class=\"dataframe\">\n",
       "  <thead>\n",
       "    <tr style=\"text-align: right;\">\n",
       "      <th></th>\n",
       "      <th>0</th>\n",
       "      <th>1</th>\n",
       "      <th>2</th>\n",
       "      <th>3</th>\n",
       "      <th>4</th>\n",
       "      <th>5</th>\n",
       "      <th>6</th>\n",
       "      <th>7</th>\n",
       "      <th>8</th>\n",
       "      <th>9</th>\n",
       "      <th>10</th>\n",
       "      <th>11</th>\n",
       "      <th>12</th>\n",
       "    </tr>\n",
       "  </thead>\n",
       "  <tbody>\n",
       "    <tr>\n",
       "      <th>count</th>\n",
       "      <td>404.000000</td>\n",
       "      <td>404.000000</td>\n",
       "      <td>404.000000</td>\n",
       "      <td>404.000000</td>\n",
       "      <td>404.000000</td>\n",
       "      <td>404.000000</td>\n",
       "      <td>404.000000</td>\n",
       "      <td>404.000000</td>\n",
       "      <td>404.000000</td>\n",
       "      <td>404.000000</td>\n",
       "      <td>404.000000</td>\n",
       "      <td>404.000000</td>\n",
       "      <td>404.000000</td>\n",
       "    </tr>\n",
       "    <tr>\n",
       "      <th>mean</th>\n",
       "      <td>3.745111</td>\n",
       "      <td>11.480198</td>\n",
       "      <td>11.104431</td>\n",
       "      <td>0.061881</td>\n",
       "      <td>0.557356</td>\n",
       "      <td>6.267082</td>\n",
       "      <td>69.010644</td>\n",
       "      <td>3.740271</td>\n",
       "      <td>9.440594</td>\n",
       "      <td>405.898515</td>\n",
       "      <td>18.475990</td>\n",
       "      <td>354.783168</td>\n",
       "      <td>12.740817</td>\n",
       "    </tr>\n",
       "    <tr>\n",
       "      <th>std</th>\n",
       "      <td>9.240734</td>\n",
       "      <td>23.767711</td>\n",
       "      <td>6.811308</td>\n",
       "      <td>0.241238</td>\n",
       "      <td>0.117293</td>\n",
       "      <td>0.709788</td>\n",
       "      <td>27.940665</td>\n",
       "      <td>2.030215</td>\n",
       "      <td>8.698360</td>\n",
       "      <td>166.374543</td>\n",
       "      <td>2.200382</td>\n",
       "      <td>94.111148</td>\n",
       "      <td>7.254545</td>\n",
       "    </tr>\n",
       "    <tr>\n",
       "      <th>min</th>\n",
       "      <td>0.006320</td>\n",
       "      <td>0.000000</td>\n",
       "      <td>0.460000</td>\n",
       "      <td>0.000000</td>\n",
       "      <td>0.385000</td>\n",
       "      <td>3.561000</td>\n",
       "      <td>2.900000</td>\n",
       "      <td>1.129600</td>\n",
       "      <td>1.000000</td>\n",
       "      <td>188.000000</td>\n",
       "      <td>12.600000</td>\n",
       "      <td>0.320000</td>\n",
       "      <td>1.730000</td>\n",
       "    </tr>\n",
       "    <tr>\n",
       "      <th>25%</th>\n",
       "      <td>0.081437</td>\n",
       "      <td>0.000000</td>\n",
       "      <td>5.130000</td>\n",
       "      <td>0.000000</td>\n",
       "      <td>0.453000</td>\n",
       "      <td>5.874750</td>\n",
       "      <td>45.475000</td>\n",
       "      <td>2.077100</td>\n",
       "      <td>4.000000</td>\n",
       "      <td>279.000000</td>\n",
       "      <td>17.225000</td>\n",
       "      <td>374.672500</td>\n",
       "      <td>6.890000</td>\n",
       "    </tr>\n",
       "    <tr>\n",
       "      <th>50%</th>\n",
       "      <td>0.268880</td>\n",
       "      <td>0.000000</td>\n",
       "      <td>9.690000</td>\n",
       "      <td>0.000000</td>\n",
       "      <td>0.538000</td>\n",
       "      <td>6.198500</td>\n",
       "      <td>78.500000</td>\n",
       "      <td>3.142300</td>\n",
       "      <td>5.000000</td>\n",
       "      <td>330.000000</td>\n",
       "      <td>19.100000</td>\n",
       "      <td>391.250000</td>\n",
       "      <td>11.395000</td>\n",
       "    </tr>\n",
       "    <tr>\n",
       "      <th>75%</th>\n",
       "      <td>3.674808</td>\n",
       "      <td>12.500000</td>\n",
       "      <td>18.100000</td>\n",
       "      <td>0.000000</td>\n",
       "      <td>0.631000</td>\n",
       "      <td>6.609000</td>\n",
       "      <td>94.100000</td>\n",
       "      <td>5.118000</td>\n",
       "      <td>24.000000</td>\n",
       "      <td>666.000000</td>\n",
       "      <td>20.200000</td>\n",
       "      <td>396.157500</td>\n",
       "      <td>17.092500</td>\n",
       "    </tr>\n",
       "    <tr>\n",
       "      <th>max</th>\n",
       "      <td>88.976200</td>\n",
       "      <td>100.000000</td>\n",
       "      <td>27.740000</td>\n",
       "      <td>1.000000</td>\n",
       "      <td>0.871000</td>\n",
       "      <td>8.725000</td>\n",
       "      <td>100.000000</td>\n",
       "      <td>10.710300</td>\n",
       "      <td>24.000000</td>\n",
       "      <td>711.000000</td>\n",
       "      <td>22.000000</td>\n",
       "      <td>396.900000</td>\n",
       "      <td>37.970000</td>\n",
       "    </tr>\n",
       "  </tbody>\n",
       "</table>\n",
       "</div>"
      ],
      "text/plain": [
       "               0           1           2           3           4           5   \\\n",
       "count  404.000000  404.000000  404.000000  404.000000  404.000000  404.000000   \n",
       "mean     3.745111   11.480198   11.104431    0.061881    0.557356    6.267082   \n",
       "std      9.240734   23.767711    6.811308    0.241238    0.117293    0.709788   \n",
       "min      0.006320    0.000000    0.460000    0.000000    0.385000    3.561000   \n",
       "25%      0.081437    0.000000    5.130000    0.000000    0.453000    5.874750   \n",
       "50%      0.268880    0.000000    9.690000    0.000000    0.538000    6.198500   \n",
       "75%      3.674808   12.500000   18.100000    0.000000    0.631000    6.609000   \n",
       "max     88.976200  100.000000   27.740000    1.000000    0.871000    8.725000   \n",
       "\n",
       "               6           7           8           9           10          11  \\\n",
       "count  404.000000  404.000000  404.000000  404.000000  404.000000  404.000000   \n",
       "mean    69.010644    3.740271    9.440594  405.898515   18.475990  354.783168   \n",
       "std     27.940665    2.030215    8.698360  166.374543    2.200382   94.111148   \n",
       "min      2.900000    1.129600    1.000000  188.000000   12.600000    0.320000   \n",
       "25%     45.475000    2.077100    4.000000  279.000000   17.225000  374.672500   \n",
       "50%     78.500000    3.142300    5.000000  330.000000   19.100000  391.250000   \n",
       "75%     94.100000    5.118000   24.000000  666.000000   20.200000  396.157500   \n",
       "max    100.000000   10.710300   24.000000  711.000000   22.000000  396.900000   \n",
       "\n",
       "               12  \n",
       "count  404.000000  \n",
       "mean    12.740817  \n",
       "std      7.254545  \n",
       "min      1.730000  \n",
       "25%      6.890000  \n",
       "50%     11.395000  \n",
       "75%     17.092500  \n",
       "max     37.970000  "
      ]
     },
     "execution_count": 4,
     "metadata": {},
     "output_type": "execute_result"
    }
   ],
   "source": [
    "pd.DataFrame(X_train).describe()"
   ]
  },
  {
   "cell_type": "markdown",
   "metadata": {},
   "source": [
    "❓ **Question** ❓ Standardize `X_train` and `X_test` set without data leakage, and replace them keeping similar variable names"
   ]
  },
  {
   "cell_type": "code",
   "execution_count": 5,
   "metadata": {},
   "outputs": [],
   "source": [
    "sc = StandardScaler()\n",
    "X_train_std = sc.fit_transform(X_train)\n",
    "X_test_std = sc.transform(X_test)"
   ]
  },
  {
   "cell_type": "markdown",
   "metadata": {},
   "source": [
    "❓ **Question** ❓ To get a sense of a benchmark score you have to beat, what is the mean absolute error on the test set if your dumb prediction corresponds to the mean value of $y$ computed on the train set?"
   ]
  },
  {
   "cell_type": "code",
   "execution_count": 6,
   "metadata": {},
   "outputs": [
    {
     "name": "stdout",
     "output_type": "stream",
     "text": [
      "6.533042127742185\n"
     ]
    }
   ],
   "source": [
    "y_train_mean = y_train.mean()\n",
    "\n",
    "y_test_pred = np.ones(y_test.shape) * y_train_mean\n",
    "\n",
    "mae = mean_absolute_error(y_test, y_test_pred)\n",
    "print(mae)"
   ]
  },
  {
   "cell_type": "markdown",
   "metadata": {},
   "source": [
    "# 1. The model\n",
    "\n",
    "❓ **Question** ❓ Now, write a function `initialize_model` that generates a neural network with 3 layers: \n",
    "- a layer with 10 neurons and the `relu` activation function (choose the appropriate input dimension)\n",
    "- a layer with 7 neurons and the `relu` activation function\n",
    "- an appropriate layer corresponding to the problem at hand"
   ]
  },
  {
   "cell_type": "code",
   "execution_count": 7,
   "metadata": {},
   "outputs": [],
   "source": [
    "def initialize_model():\n",
    "    model = Sequential()\n",
    "    model.add(layers.Dense(10, input_dim=13, activation='relu'))\n",
    "    model.add(layers.Dense(7, input_dim=13, activation='relu'))\n",
    "    model.add(layers.Dense(1, 'relu'))\n",
    "    \n",
    "    return model\n",
    "\n",
    "model = initialize_model()"
   ]
  },
  {
   "cell_type": "markdown",
   "metadata": {},
   "source": [
    "# 2. The optimizer\n",
    "\n",
    "❓ **Question** ❓ Write a function that :\n",
    "* takes as arguments a model and an optimizer, \n",
    "* `compiles` the model,\n",
    "* and returns the compiled model\n",
    "\n",
    "Please select the `loss function` to be optimized and  the `metrics` on which the model should be evaluated wisely."
   ]
  },
  {
   "cell_type": "code",
   "execution_count": 20,
   "metadata": {},
   "outputs": [
    {
     "name": "stdout",
     "output_type": "stream",
     "text": [
      "Epoch 1/100\n",
      "13/13 [==============================] - 0s 834us/step - loss: 586.1605 - mae: 22.3950\n",
      "Epoch 2/100\n",
      "13/13 [==============================] - 0s 1ms/step - loss: 586.1605 - mae: 22.3950\n",
      "Epoch 3/100\n",
      "13/13 [==============================] - 0s 1ms/step - loss: 586.1605 - mae: 22.3950\n",
      "Epoch 4/100\n",
      "13/13 [==============================] - 0s 1ms/step - loss: 586.1605 - mae: 22.3950\n",
      "Epoch 5/100\n",
      "13/13 [==============================] - 0s 2ms/step - loss: 586.1605 - mae: 22.3951\n",
      "Epoch 6/100\n",
      "13/13 [==============================] - 0s 1ms/step - loss: 586.1605 - mae: 22.3950\n",
      "Epoch 7/100\n",
      "13/13 [==============================] - 0s 1ms/step - loss: 586.1604 - mae: 22.3950\n",
      "Epoch 8/100\n",
      "13/13 [==============================] - 0s 1ms/step - loss: 586.1605 - mae: 22.3951\n",
      "Epoch 9/100\n",
      "13/13 [==============================] - 0s 2ms/step - loss: 586.1605 - mae: 22.3950\n",
      "Epoch 10/100\n",
      "13/13 [==============================] - 0s 1ms/step - loss: 586.1605 - mae: 22.3951\n",
      "Epoch 11/100\n",
      "13/13 [==============================] - 0s 3ms/step - loss: 586.1605 - mae: 22.3950\n",
      "Epoch 12/100\n",
      "13/13 [==============================] - 0s 1ms/step - loss: 586.1605 - mae: 22.3951\n",
      "Epoch 13/100\n",
      "13/13 [==============================] - 0s 2ms/step - loss: 586.1605 - mae: 22.3951\n",
      "Epoch 14/100\n",
      "13/13 [==============================] - 0s 1ms/step - loss: 586.1605 - mae: 22.3950\n",
      "Epoch 15/100\n",
      "13/13 [==============================] - 0s 1ms/step - loss: 586.1605 - mae: 22.3951\n",
      "Epoch 16/100\n",
      "13/13 [==============================] - 0s 1ms/step - loss: 586.1605 - mae: 22.3950\n",
      "Epoch 17/100\n",
      "13/13 [==============================] - 0s 2ms/step - loss: 586.1605 - mae: 22.3951\n",
      "Epoch 18/100\n",
      "13/13 [==============================] - 0s 1ms/step - loss: 586.1605 - mae: 22.3950\n",
      "Epoch 19/100\n",
      "13/13 [==============================] - 0s 1ms/step - loss: 586.1605 - mae: 22.3951\n",
      "Epoch 20/100\n",
      "13/13 [==============================] - 0s 3ms/step - loss: 586.1605 - mae: 22.3950\n",
      "Epoch 21/100\n",
      "13/13 [==============================] - 0s 1ms/step - loss: 586.1605 - mae: 22.3950\n",
      "Epoch 22/100\n",
      "13/13 [==============================] - 0s 3ms/step - loss: 586.1605 - mae: 22.3950\n",
      "Epoch 23/100\n",
      "13/13 [==============================] - 0s 1ms/step - loss: 586.1605 - mae: 22.3950\n",
      "Epoch 24/100\n",
      "13/13 [==============================] - 0s 2ms/step - loss: 586.1605 - mae: 22.3951\n",
      "Epoch 25/100\n",
      "13/13 [==============================] - 0s 1ms/step - loss: 586.1605 - mae: 22.3951\n",
      "Epoch 26/100\n",
      "13/13 [==============================] - 0s 3ms/step - loss: 586.1605 - mae: 22.3951\n",
      "Epoch 27/100\n",
      "13/13 [==============================] - 0s 1ms/step - loss: 586.1605 - mae: 22.3950\n",
      "Epoch 28/100\n",
      "13/13 [==============================] - 0s 1ms/step - loss: 586.1605 - mae: 22.3950\n",
      "Epoch 29/100\n",
      "13/13 [==============================] - 0s 1ms/step - loss: 586.1605 - mae: 22.3950\n",
      "Epoch 30/100\n",
      "13/13 [==============================] - 0s 3ms/step - loss: 586.1605 - mae: 22.3951\n",
      "Epoch 31/100\n",
      "13/13 [==============================] - 0s 1ms/step - loss: 586.1605 - mae: 22.3950\n",
      "Epoch 32/100\n",
      "13/13 [==============================] - 0s 1ms/step - loss: 586.1605 - mae: 22.3950\n",
      "Epoch 33/100\n",
      "13/13 [==============================] - 0s 1ms/step - loss: 586.1605 - mae: 22.3951\n",
      "Epoch 34/100\n",
      "13/13 [==============================] - 0s 1ms/step - loss: 586.1605 - mae: 22.3950\n",
      "Epoch 35/100\n",
      "13/13 [==============================] - 0s 1ms/step - loss: 586.1605 - mae: 22.3950\n",
      "Epoch 36/100\n",
      "13/13 [==============================] - 0s 1ms/step - loss: 586.1605 - mae: 22.3950\n",
      "Epoch 37/100\n",
      "13/13 [==============================] - 0s 2ms/step - loss: 586.1605 - mae: 22.3950\n",
      "Epoch 38/100\n",
      "13/13 [==============================] - 0s 1ms/step - loss: 586.1605 - mae: 22.3950\n",
      "Epoch 39/100\n",
      "13/13 [==============================] - 0s 1ms/step - loss: 586.1605 - mae: 22.3951\n",
      "Epoch 40/100\n",
      "13/13 [==============================] - 0s 1ms/step - loss: 586.1605 - mae: 22.3950\n",
      "Epoch 41/100\n",
      "13/13 [==============================] - 0s 1ms/step - loss: 586.1605 - mae: 22.3950\n",
      "Epoch 42/100\n",
      "13/13 [==============================] - 0s 1ms/step - loss: 586.1605 - mae: 22.3950\n",
      "Epoch 43/100\n",
      "13/13 [==============================] - 0s 1ms/step - loss: 586.1605 - mae: 22.3950\n",
      "Epoch 44/100\n",
      "13/13 [==============================] - 0s 3ms/step - loss: 586.1605 - mae: 22.3950\n",
      "Epoch 45/100\n",
      "13/13 [==============================] - 0s 1ms/step - loss: 586.1605 - mae: 22.3951\n",
      "Epoch 46/100\n",
      "13/13 [==============================] - 0s 2ms/step - loss: 586.1605 - mae: 22.3950\n",
      "Epoch 47/100\n",
      "13/13 [==============================] - 0s 1ms/step - loss: 586.1604 - mae: 22.3950\n",
      "Epoch 48/100\n",
      "13/13 [==============================] - 0s 1ms/step - loss: 586.1605 - mae: 22.3950\n",
      "Epoch 49/100\n",
      "13/13 [==============================] - 0s 3ms/step - loss: 586.1605 - mae: 22.3950\n",
      "Epoch 50/100\n",
      "13/13 [==============================] - 0s 2ms/step - loss: 586.1605 - mae: 22.3950\n",
      "Epoch 51/100\n",
      "13/13 [==============================] - 0s 1ms/step - loss: 586.1605 - mae: 22.3950\n",
      "Epoch 52/100\n",
      "13/13 [==============================] - 0s 1ms/step - loss: 586.1605 - mae: 22.3951\n",
      "Epoch 53/100\n",
      "13/13 [==============================] - 0s 1ms/step - loss: 586.1605 - mae: 22.3950\n",
      "Epoch 54/100\n",
      "13/13 [==============================] - 0s 2ms/step - loss: 586.1605 - mae: 22.3950\n",
      "Epoch 55/100\n",
      "13/13 [==============================] - 0s 1ms/step - loss: 586.1605 - mae: 22.3950\n",
      "Epoch 56/100\n",
      "13/13 [==============================] - 0s 1ms/step - loss: 586.1606 - mae: 22.3951\n",
      "Epoch 57/100\n",
      "13/13 [==============================] - 0s 1ms/step - loss: 586.1605 - mae: 22.3951\n",
      "Epoch 58/100\n",
      "13/13 [==============================] - 0s 1ms/step - loss: 586.1605 - mae: 22.3951\n",
      "Epoch 59/100\n",
      "13/13 [==============================] - 0s 1ms/step - loss: 586.1605 - mae: 22.3950\n",
      "Epoch 60/100\n",
      "13/13 [==============================] - 0s 0s/step - loss: 586.1605 - mae: 22.3951\n",
      "Epoch 61/100\n",
      "13/13 [==============================] - 0s 1ms/step - loss: 586.1605 - mae: 22.3950\n",
      "Epoch 62/100\n",
      "13/13 [==============================] - 0s 1ms/step - loss: 586.1605 - mae: 22.3950\n",
      "Epoch 63/100\n",
      "13/13 [==============================] - 0s 1ms/step - loss: 586.1605 - mae: 22.3950\n",
      "Epoch 64/100\n",
      "13/13 [==============================] - 0s 1ms/step - loss: 586.1605 - mae: 22.3951\n",
      "Epoch 65/100\n",
      "13/13 [==============================] - 0s 544us/step - loss: 586.1605 - mae: 22.3950\n",
      "Epoch 66/100\n",
      "13/13 [==============================] - 0s 1ms/step - loss: 586.1605 - mae: 22.3950\n",
      "Epoch 67/100\n",
      "13/13 [==============================] - 0s 1ms/step - loss: 586.1605 - mae: 22.3951\n",
      "Epoch 68/100\n",
      "13/13 [==============================] - 0s 1ms/step - loss: 586.1605 - mae: 22.3950\n",
      "Epoch 69/100\n",
      "13/13 [==============================] - 0s 1ms/step - loss: 586.1604 - mae: 22.3951\n",
      "Epoch 70/100\n",
      "13/13 [==============================] - 0s 2ms/step - loss: 586.1605 - mae: 22.3950\n",
      "Epoch 71/100\n",
      "13/13 [==============================] - 0s 3ms/step - loss: 586.1605 - mae: 22.3950\n",
      "Epoch 72/100\n",
      "13/13 [==============================] - 0s 1ms/step - loss: 586.1604 - mae: 22.3950\n",
      "Epoch 73/100\n",
      "13/13 [==============================] - 0s 1ms/step - loss: 586.1605 - mae: 22.3950\n",
      "Epoch 74/100\n",
      "13/13 [==============================] - 0s 1ms/step - loss: 586.1605 - mae: 22.3950\n",
      "Epoch 75/100\n",
      "13/13 [==============================] - 0s 2ms/step - loss: 586.1606 - mae: 22.3950\n",
      "Epoch 76/100\n",
      "13/13 [==============================] - 0s 1ms/step - loss: 586.1604 - mae: 22.3950\n",
      "Epoch 77/100\n",
      "13/13 [==============================] - 0s 1ms/step - loss: 586.1605 - mae: 22.3951\n",
      "Epoch 78/100\n",
      "13/13 [==============================] - 0s 1ms/step - loss: 586.1605 - mae: 22.3951\n",
      "Epoch 79/100\n",
      "13/13 [==============================] - 0s 1ms/step - loss: 586.1605 - mae: 22.3950\n",
      "Epoch 80/100\n",
      "13/13 [==============================] - 0s 542us/step - loss: 586.1604 - mae: 22.3951\n",
      "Epoch 81/100\n",
      "13/13 [==============================] - 0s 0s/step - loss: 586.1604 - mae: 22.3950\n",
      "Epoch 82/100\n",
      "13/13 [==============================] - 0s 1ms/step - loss: 586.1605 - mae: 22.3950\n",
      "Epoch 83/100\n",
      "13/13 [==============================] - 0s 1ms/step - loss: 586.1605 - mae: 22.3950\n",
      "Epoch 84/100\n"
     ]
    },
    {
     "name": "stdout",
     "output_type": "stream",
     "text": [
      "13/13 [==============================] - 0s 1ms/step - loss: 586.1605 - mae: 22.3951\n",
      "Epoch 85/100\n",
      "13/13 [==============================] - 0s 2ms/step - loss: 586.1605 - mae: 22.3951\n",
      "Epoch 86/100\n",
      "13/13 [==============================] - 0s 1ms/step - loss: 586.1605 - mae: 22.3950\n",
      "Epoch 87/100\n",
      "13/13 [==============================] - 0s 1ms/step - loss: 586.1605 - mae: 22.3950\n",
      "Epoch 88/100\n",
      "13/13 [==============================] - 0s 1ms/step - loss: 586.1605 - mae: 22.3951\n",
      "Epoch 89/100\n",
      "13/13 [==============================] - 0s 1ms/step - loss: 586.1605 - mae: 22.3950\n",
      "Epoch 90/100\n",
      "13/13 [==============================] - 0s 2ms/step - loss: 586.1605 - mae: 22.3950\n",
      "Epoch 91/100\n",
      "13/13 [==============================] - 0s 1ms/step - loss: 586.1605 - mae: 22.3950\n",
      "Epoch 92/100\n",
      "13/13 [==============================] - 0s 1ms/step - loss: 586.1605 - mae: 22.3950\n",
      "Epoch 93/100\n",
      "13/13 [==============================] - 0s 1ms/step - loss: 586.1605 - mae: 22.3951\n",
      "Epoch 94/100\n",
      "13/13 [==============================] - 0s 1ms/step - loss: 586.1605 - mae: 22.3951\n",
      "Epoch 95/100\n",
      "13/13 [==============================] - 0s 2ms/step - loss: 586.1605 - mae: 22.3951\n",
      "Epoch 96/100\n",
      "13/13 [==============================] - 0s 1ms/step - loss: 586.1605 - mae: 22.3950\n",
      "Epoch 97/100\n",
      "13/13 [==============================] - 0s 2ms/step - loss: 586.1605 - mae: 22.3951\n",
      "Epoch 98/100\n",
      "13/13 [==============================] - 0s 3ms/step - loss: 586.1605 - mae: 22.3950\n",
      "Epoch 99/100\n",
      "13/13 [==============================] - 0s 1ms/step - loss: 586.1605 - mae: 22.3950\n",
      "Epoch 100/100\n",
      "13/13 [==============================] - 0s 1ms/step - loss: 586.1605 - mae: 22.3950\n",
      "Model: \"sequential_9\"\n",
      "_________________________________________________________________\n",
      " Layer (type)                Output Shape              Param #   \n",
      "=================================================================\n",
      " dense_27 (Dense)            (None, 10)                140       \n",
      "                                                                 \n",
      " dense_28 (Dense)            (None, 7)                 77        \n",
      "                                                                 \n",
      " dense_29 (Dense)            (None, 1)                 8         \n",
      "                                                                 \n",
      "=================================================================\n",
      "Total params: 225\n",
      "Trainable params: 225\n",
      "Non-trainable params: 0\n",
      "_________________________________________________________________\n",
      "None\n"
     ]
    }
   ],
   "source": [
    "def compile_model(model, optimizer_name):\n",
    "    model.compile(loss='mse', optimizer=optimizer_name, metrics= ['mae']) \n",
    "    return model\n",
    "\n",
    "compile_model(model, 'adam')\n",
    "model.fit(X_train, y_train, epochs=100)\n",
    "print(model.summary()) "
   ]
  },
  {
   "cell_type": "markdown",
   "metadata": {},
   "source": [
    "❓ **Question** ❓ Initialize the model, compile it with the `adam` optimizer and fit it on the data. \n",
    "- Evaluate your model using an Early Stopping criterion."
   ]
  },
  {
   "cell_type": "code",
   "execution_count": 21,
   "metadata": {},
   "outputs": [
    {
     "name": "stdout",
     "output_type": "stream",
     "text": [
      "Epoch 1/100\n",
      "9/9 [==============================] - 0s 23ms/step - loss: 558.3328 - mae: 21.9688 - val_loss: 650.4835 - val_mae: 23.3803\n",
      "Epoch 2/100\n",
      "9/9 [==============================] - 0s 6ms/step - loss: 558.3328 - mae: 21.9688 - val_loss: 650.4835 - val_mae: 23.3803\n",
      "Epoch 3/100\n",
      "9/9 [==============================] - 0s 7ms/step - loss: 558.3329 - mae: 21.9688 - val_loss: 650.4835 - val_mae: 23.3803\n",
      "Epoch 4/100\n",
      "9/9 [==============================] - 0s 6ms/step - loss: 558.3329 - mae: 21.9688 - val_loss: 650.4835 - val_mae: 23.3803\n",
      "Epoch 5/100\n",
      "9/9 [==============================] - 0s 5ms/step - loss: 558.3328 - mae: 21.9688 - val_loss: 650.4835 - val_mae: 23.3803\n",
      "Epoch 6/100\n",
      "9/9 [==============================] - 0s 6ms/step - loss: 558.3328 - mae: 21.9688 - val_loss: 650.4835 - val_mae: 23.3803\n",
      "Epoch 7/100\n",
      "9/9 [==============================] - 0s 5ms/step - loss: 558.3328 - mae: 21.9688 - val_loss: 650.4835 - val_mae: 23.3803\n",
      "Epoch 8/100\n",
      "9/9 [==============================] - 0s 6ms/step - loss: 558.3328 - mae: 21.9688 - val_loss: 650.4835 - val_mae: 23.3803\n",
      "Epoch 9/100\n",
      "9/9 [==============================] - 0s 7ms/step - loss: 558.3328 - mae: 21.9688 - val_loss: 650.4835 - val_mae: 23.3803\n",
      "Epoch 10/100\n",
      "9/9 [==============================] - 0s 6ms/step - loss: 558.3328 - mae: 21.9688 - val_loss: 650.4835 - val_mae: 23.3803\n",
      "Epoch 11/100\n",
      "9/9 [==============================] - 0s 7ms/step - loss: 558.3328 - mae: 21.9688 - val_loss: 650.4835 - val_mae: 23.3803\n",
      "Epoch 12/100\n",
      "9/9 [==============================] - 0s 6ms/step - loss: 558.3328 - mae: 21.9688 - val_loss: 650.4835 - val_mae: 23.3803\n",
      "Epoch 13/100\n",
      "9/9 [==============================] - 0s 7ms/step - loss: 558.3328 - mae: 21.9688 - val_loss: 650.4835 - val_mae: 23.3803\n",
      "Epoch 14/100\n",
      "9/9 [==============================] - 0s 7ms/step - loss: 558.3328 - mae: 21.9688 - val_loss: 650.4835 - val_mae: 23.3803\n",
      "Epoch 15/100\n",
      "9/9 [==============================] - 0s 6ms/step - loss: 558.3328 - mae: 21.9688 - val_loss: 650.4835 - val_mae: 23.3803\n",
      "Epoch 16/100\n",
      "9/9 [==============================] - 0s 6ms/step - loss: 558.3328 - mae: 21.9688 - val_loss: 650.4835 - val_mae: 23.3803\n",
      "Epoch 17/100\n",
      "9/9 [==============================] - 0s 5ms/step - loss: 558.3329 - mae: 21.9688 - val_loss: 650.4835 - val_mae: 23.3803\n",
      "Epoch 18/100\n",
      "9/9 [==============================] - 0s 6ms/step - loss: 558.3328 - mae: 21.9688 - val_loss: 650.4835 - val_mae: 23.3803\n",
      "Epoch 19/100\n",
      "9/9 [==============================] - 0s 5ms/step - loss: 558.3329 - mae: 21.9688 - val_loss: 650.4835 - val_mae: 23.3803\n",
      "Epoch 20/100\n",
      "9/9 [==============================] - 0s 6ms/step - loss: 558.3328 - mae: 21.9688 - val_loss: 650.4835 - val_mae: 23.3803\n",
      "Epoch 21/100\n",
      "9/9 [==============================] - 0s 5ms/step - loss: 558.3328 - mae: 21.9688 - val_loss: 650.4835 - val_mae: 23.3803\n"
     ]
    },
    {
     "data": {
      "text/plain": [
       "<keras.callbacks.History at 0x1c5935d1610>"
      ]
     },
     "execution_count": 21,
     "metadata": {},
     "output_type": "execute_result"
    }
   ],
   "source": [
    "es = EarlyStopping(patience=20)\n",
    "\n",
    "model.fit(X_train, y_train, epochs=100, validation_split=0.3, callbacks=[es])\n",
    "\n"
   ]
  },
  {
   "cell_type": "markdown",
   "metadata": {},
   "source": [
    "❓ **Question** ❓ Re-run the same model on the same data using different optimizers (in a `for` loop). \n",
    "\n",
    "For each optimizer, plot the history and report the corresponding Mean Absolute Error. (see [here](https://www.tensorflow.org/api_docs/python/tf/keras/optimizers)), as well as the time it took to fit your Neural Net."
   ]
  },
  {
   "cell_type": "code",
   "execution_count": 10,
   "metadata": {},
   "outputs": [],
   "source": [
    "def plot_loss_mae(history):\n",
    "    fig, (ax1, ax2) = plt.subplots(1,2, figsize=(13,4))\n",
    "    ax1.plot(history.history['loss'])\n",
    "    ax1.plot(history.history['val_loss'])\n",
    "    ax1.set_title('Model loss')\n",
    "    ax1.set_ylabel('Loss')\n",
    "    ax1.set_xlabel('Epoch')\n",
    "    ax1.set_ylim(ymin=0, ymax=200)\n",
    "    ax1.legend(['Train', 'Validation'], loc='best')\n",
    "    ax1.grid(axis=\"x\",linewidth=0.5)\n",
    "    ax1.grid(axis=\"y\",linewidth=0.5)    \n",
    "    \n",
    "    ax2.plot(history.history['mae'])\n",
    "    ax2.plot(history.history['val_mae'])\n",
    "    ax2.set_title('MAE')\n",
    "    ax2.set_ylabel('MAE')\n",
    "    ax2.set_xlabel('Epoch')\n",
    "    ax2.set_ylim(ymin=0, ymax=20)\n",
    "    ax2.legend(['Train', 'Validation'], loc='best')\n",
    "    ax2.grid(axis=\"x\",linewidth=0.5)\n",
    "    ax2.grid(axis=\"y\",linewidth=0.5)    \n",
    "\n",
    "    plt.show()\n",
    "\n",
    "def plot_loss_mse(history):\n",
    "    fig, (ax1, ax2) = plt.subplots(1,2, figsize=(13,4))\n",
    "    ax1.plot(history.history['loss'])\n",
    "    ax1.plot(history.history['val_loss'])\n",
    "    ax1.set_title('Model loss')\n",
    "    ax1.set_ylabel('Loss')\n",
    "    ax1.set_xlabel('Epoch')\n",
    "    ax1.set_ylim(ymin=0, ymax=20)\n",
    "    ax1.legend(['Train', 'Validation'], loc='best')\n",
    "    ax1.grid(axis=\"x\",linewidth=0.5)\n",
    "    ax1.grid(axis=\"y\",linewidth=0.5)    \n",
    "\n",
    "    \n",
    "    ax2.plot(history.history['mse'])\n",
    "    ax2.plot(history.history['val_mse'])\n",
    "    ax2.set_title('MSE')\n",
    "    ax2.set_ylabel('MSE')\n",
    "    ax2.set_xlabel('Epoch')\n",
    "    ax2.set_ylim(ymin=0, ymax=200)\n",
    "    ax2.legend(['Train', 'Validation'], loc='best')\n",
    "    ax2.grid(axis=\"x\",linewidth=0.5)\n",
    "    ax2.grid(axis=\"y\",linewidth=0.5)    \n",
    "\n",
    "    plt.show()"
   ]
  },
  {
   "cell_type": "code",
   "execution_count": 11,
   "metadata": {
    "tags": [
     "delete"
    ]
   },
   "outputs": [
    {
     "name": "stdout",
     "output_type": "stream",
     "text": [
      "4/4 [==============================] - 0s 0s/step - loss: 32.9505 - mae: 4.2058\n",
      "MAE with the rmsprop optimizer: 4.2058  reached in 11 s after 188 epochs\n"
     ]
    },
    {
     "data": {
      "image/png": "[encoded data removed]",
      "text/plain": [
       "<Figure size 936x288 with 2 Axes>"
      ]
     },
     "metadata": {
      "needs_background": "light"
     },
     "output_type": "display_data"
    },
    {
     "name": "stdout",
     "output_type": "stream",
     "text": [
      "4/4 [==============================] - 0s 0s/step - loss: 39.1733 - mae: 4.4058\n",
      "MAE with the adam optimizer: 4.4058  reached in 8 s after 141 epochs\n"
     ]
    },
    {
     "data": {
      "image/png": "[encoded data removed]",
      "text/plain": [
       "<Figure size 936x288 with 2 Axes>"
      ]
     },
     "metadata": {
      "needs_background": "light"
     },
     "output_type": "display_data"
    },
    {
     "name": "stdout",
     "output_type": "stream",
     "text": [
      "4/4 [==============================] - 0s 0s/step - loss: 615.8578 - mae: 23.0784\n",
      "MAE with the adagrad optimizer: 23.0784  reached in 1 s after 11 epochs\n"
     ]
    },
    {
     "data": {
      "image/png": "[encoded data removed]",
      "text/plain": [
       "<Figure size 936x288 with 2 Axes>"
      ]
     },
     "metadata": {
      "needs_background": "light"
     },
     "output_type": "display_data"
    }
   ],
   "source": [
    "import time\n",
    "\n",
    "for optimizer in ['rmsprop', 'adam', 'adagrad']:\n",
    "    start_time = time.time()\n",
    "    model = initialize_model()\n",
    "    model = compile_model(model, optimizer)\n",
    "\n",
    "    es = EarlyStopping(patience=10, restore_best_weights=True)\n",
    "\n",
    "    history = model.fit(X_train, y_train, \n",
    "                      batch_size=16, \n",
    "                      epochs=500, \n",
    "                      validation_split=0.3,\n",
    "                      callbacks=[es], verbose=0)\n",
    "\n",
    "    res = model.evaluate(X_test, y_test)[1]\n",
    "    end_time = time.time()\n",
    "\n",
    "    print(f'MAE with the {optimizer} optimizer: {res:.4f}  reached in {(end_time - start_time):.0f} s after {len(history.epoch)} epochs')\n",
    "    plot_loss_mae(history)"
   ]
  },
  {
   "cell_type": "markdown",
   "metadata": {},
   "source": [
    "❓ **Question** ❓ Are your predictions better than the benchmark model you've evaluated at the beginning of the notebook?"
   ]
  },
  {
   "cell_type": "markdown",
   "metadata": {},
   "source": [
    "❗ **Remark** ❗ \n",
    "- Here, the optimizer is may not be central as the data are in low dimensions and and there are not many samples. However, in practice, you are advised to start with the `adam` optimizer by default which often works best. \n",
    "\n",
    "- Internally, when you call any optimizer with a string, the neural network initializes the hyperparameters the optimizer relies on. Among this hyperparameters, there is quite an important one, the **`learning rate`**. This learning rate corresponds to the intensity of change of the weights at each optimization of the neural network. Different learning rates have different consequences, as shown here : \n",
    "\n",
    "<img src=\"learning_rate.png\" alt=\"Learning rate\" style=\"height:350px;\"/>\n",
    "\n",
    "\n",
    "As the learning rate is initialized with default values when you compile the model optimizer with a string, let's see how to do it differently.\n",
    "\n",
    "\n",
    "❓ **Question** ❓ Instead of initializing the optimizer with a string, we will initialize a real optimizer directly. Look at the documentation of [adam](https://www.tensorflow.org/api_docs/python/tf/keras/optimizers/Adam) and instantiate it with a learning rate of $0.1$ - keep the other values to their default values. Use this optimizer in the `compile_model` function, fit the data and plot the history"
   ]
  },
  {
   "cell_type": "code",
   "execution_count": 12,
   "metadata": {
    "tags": [
     "challengify"
    ]
   },
   "outputs": [
    {
     "name": "stderr",
     "output_type": "stream",
     "text": [
      "C:\\Users\\utilisateur\\anaconda3\\lib\\site-packages\\keras\\optimizers\\optimizer_v2\\adam.py:114: UserWarning: The `lr` argument is deprecated, use `learning_rate` instead.\n",
      "  super().__init__(name, **kwargs)\n"
     ]
    },
    {
     "data": {
      "text/plain": [
       "<keras.engine.sequential.Sequential at 0x1c58fbe6af0>"
      ]
     },
     "execution_count": 12,
     "metadata": {},
     "output_type": "execute_result"
    }
   ],
   "source": [
    "def compile_model(model, optimizer_name):\n",
    "    model.compile(loss='mse', optimizer=optimizer_name, metrics= ['mae']) \n",
    "    return model\n",
    "\n",
    "optimizer = Adam(lr=0.1)\n",
    "compile_model(model, optimizer)"
   ]
  },
  {
   "cell_type": "markdown",
   "metadata": {},
   "source": [
    "❓ **Question** ❓ Now, reproduce the same plots and results but for different learning rates.\n",
    "\n",
    "*Remark*: There is a chance that the y-axis is too large for you to visualize the results. In that case, rewrite the plot function to plot only the epochs > 10."
   ]
  },
  {
   "cell_type": "code",
   "execution_count": 13,
   "metadata": {},
   "outputs": [
    {
     "name": "stdout",
     "output_type": "stream",
     "text": [
      "4/4 [==============================] - 0s 5ms/step - loss: 62.9646 - mae: 5.5515\n",
      "MAE with the <keras.optimizers.optimizer_v2.adam.Adam object at 0x000001C58CDCB040> optimizer: 5.5515  reached in 22 s after 446 epochs\n"
     ]
    },
    {
     "data": {
      "image/png": "[encoded data removed]",
      "text/plain": [
       "<Figure size 936x288 with 2 Axes>"
      ]
     },
     "metadata": {
      "needs_background": "light"
     },
     "output_type": "display_data"
    },
    {
     "name": "stdout",
     "output_type": "stream",
     "text": [
      "4/4 [==============================] - 0s 5ms/step - loss: 615.8578 - mae: 23.0784\n",
      "MAE with the <keras.optimizers.optimizer_v2.adam.Adam object at 0x000001C58FB83820> optimizer: 23.0784  reached in 1 s after 11 epochs\n"
     ]
    },
    {
     "data": {
      "image/png": "[encoded data removed]",
      "text/plain": [
       "<Figure size 936x288 with 2 Axes>"
      ]
     },
     "metadata": {
      "needs_background": "light"
     },
     "output_type": "display_data"
    },
    {
     "name": "stdout",
     "output_type": "stream",
     "text": [
      "4/4 [==============================] - 0s 0s/step - loss: 615.8578 - mae: 23.0784\n",
      "MAE with the <keras.optimizers.optimizer_v2.adam.Adam object at 0x000001C58E61A250> optimizer: 23.0784  reached in 1 s after 11 epochs\n"
     ]
    },
    {
     "data": {
      "image/png": "[encoded data removed]",
      "text/plain": [
       "<Figure size 936x288 with 2 Axes>"
      ]
     },
     "metadata": {
      "needs_background": "light"
     },
     "output_type": "display_data"
    },
    {
     "name": "stdout",
     "output_type": "stream",
     "text": [
      "4/4 [==============================] - 0s 0s/step - loss: 615.8578 - mae: 23.0784\n",
      "MAE with the <keras.optimizers.optimizer_v2.adam.Adam object at 0x000001C5921E4820> optimizer: 23.0784  reached in 1 s after 11 epochs\n"
     ]
    },
    {
     "data": {
      "image/png": "[encoded data removed]",
      "text/plain": [
       "<Figure size 936x288 with 2 Axes>"
      ]
     },
     "metadata": {
      "needs_background": "light"
     },
     "output_type": "display_data"
    },
    {
     "name": "stdout",
     "output_type": "stream",
     "text": [
      "4/4 [==============================] - 0s 0s/step - loss: 615.8578 - mae: 23.0784\n",
      "MAE with the <keras.optimizers.optimizer_v2.adam.Adam object at 0x000001C58D32E820> optimizer: 23.0784  reached in 1 s after 11 epochs\n"
     ]
    },
    {
     "data": {
      "image/png": "[encoded data removed]",
      "text/plain": [
       "<Figure size 936x288 with 2 Axes>"
      ]
     },
     "metadata": {
      "needs_background": "light"
     },
     "output_type": "display_data"
    },
    {
     "name": "stdout",
     "output_type": "stream",
     "text": [
      "4/4 [==============================] - 0s 0s/step - loss: 615.8578 - mae: 23.0784\n",
      "MAE with the <keras.optimizers.optimizer_v2.adam.Adam object at 0x000001C58FC522B0> optimizer: 23.0784  reached in 1 s after 11 epochs\n"
     ]
    },
    {
     "data": {
      "image/png": "[encoded data removed]",
      "text/plain": [
       "<Figure size 936x288 with 2 Axes>"
      ]
     },
     "metadata": {
      "needs_background": "light"
     },
     "output_type": "display_data"
    }
   ],
   "source": [
    "learning_rates = [0.0001, 0.001, 0.01, 0.1, 1, 5]\n",
    "\n",
    "for lr in learning_rates:\n",
    "    optimizer = Adam(lr=lr)\n",
    "    start_time = time.time()\n",
    "    model = initialize_model()\n",
    "    model = compile_model(model, optimizer)\n",
    "\n",
    "    es = EarlyStopping(patience=10, restore_best_weights=True)\n",
    "\n",
    "    history = model.fit(X_train, y_train, \n",
    "                      batch_size=16, \n",
    "                      epochs=500, \n",
    "                      validation_split=0.3,\n",
    "                      callbacks=[es], verbose=0)\n",
    "\n",
    "    res = model.evaluate(X_test, y_test)[1]\n",
    "    end_time = time.time()\n",
    "\n",
    "    print(f'MAE with the {optimizer} optimizer: {res:.4f}  reached in {(end_time - start_time):.0f} s after {len(history.epoch)} epochs')\n",
    "    plot_loss_mae(history)\n",
    "   "
   ]
  },
  {
   "cell_type": "markdown",
   "metadata": {},
   "source": [
    "# 3. The loss\n",
    "\n",
    "⚠️ It is important to **clearly understand the different between metrics and losses**. \n",
    "\n",
    "* The `loss functions` are computed *during* the training procedure\n",
    "* The `metrics` are computed *after* training your models !\n",
    "* Some metrics can be used as loss functions too... as long as they are differentiable ! (e.g. the *MSE*)\n",
    "\n",
    "❓ **Question** ❓ Run the same neural network, once with the `mae` as the loss, and once with the `mse`.  \n",
    "\n",
    "In both case, compare `mae_train`, `mae_val`, `mse_train`, `mse_val` and conclude."
   ]
  },
  {
   "cell_type": "code",
   "execution_count": 31,
   "metadata": {},
   "outputs": [
    {
     "name": "stderr",
     "output_type": "stream",
     "text": [
      "C:\\Users\\utilisateur\\anaconda3\\lib\\site-packages\\keras\\optimizers\\optimizer_v2\\adam.py:114: UserWarning: The `lr` argument is deprecated, use `learning_rate` instead.\n",
      "  super().__init__(name, **kwargs)\n"
     ]
    },
    {
     "name": "stdout",
     "output_type": "stream",
     "text": [
      "MAE - Train: 21.9688, Validation: 23.3803\n",
      "MSE - Train: 558.3328, Validation: 650.4835\n"
     ]
    },
    {
     "data": {
      "image/png": "[encoded data removed]",
      "text/plain": [
       "<Figure size 432x288 with 1 Axes>"
      ]
     },
     "metadata": {
      "needs_background": "light"
     },
     "output_type": "display_data"
    },
    {
     "data": {
      "image/png": "[encoded data removed]",
      "text/plain": [
       "<Figure size 432x288 with 1 Axes>"
      ]
     },
     "metadata": {
      "needs_background": "light"
     },
     "output_type": "display_data"
    }
   ],
   "source": [
    "# YOUR CODE HERE\n",
    "optimizer_name = Adam(lr=0.1)\n",
    "es = EarlyStopping(patience=20, restore_best_weights=True)\n",
    "\n",
    "model.compile(loss='mae', optimizer=optimizer_name, metrics=['mae'])\n",
    "history_mae = model.fit(X_train, y_train, epochs=100, batch_size=16, validation_split=0.3, callbacks=[es], verbose=0)\n",
    "\n",
    "model.compile(loss='mse', optimizer=optimizer_name, metrics=['mse'])\n",
    "history_mse = model.fit(X_train, y_train, epochs=100, batch_size=16, validation_split=0.3, callbacks=[es], verbose=0)\n",
    "\n",
    "mae_train_mae, mae_val_mae = history_mae.history['mae'], history_mae.history['val_mae']\n",
    "mse_train_mse, mse_val_mse = history_mse.history['mse'], history_mse.history['val_mse']\n",
    "\n",
    "print(f'MAE - Train: {mae_train_mae[-1]:.4f}, Validation: {mae_val_mae[-1]:.4f}')\n",
    "print(f'MSE - Train: {mse_train_mse[-1]:.4f}, Validation: {mse_val_mse[-1]:.4f}')\n",
    "\n",
    "plt.plot(history_mae.history['val_mae'], label='val_mae')\n",
    "plt.plot(history_mae.history['mae'], label='mae')\n",
    "plt.title('MAE')\n",
    "plt.ylabel('MAE')\n",
    "plt.xlabel('Epoch')\n",
    "plt.legend(['Validation', 'Train'], loc='upper right')\n",
    "plt.show()\n",
    "\n",
    "plt.plot(history_mse.history['val_mse'], label='val_mse')\n",
    "plt.plot(history_mse.history['mse'], label='mse')\n",
    "plt.title('MSE')\n",
    "plt.ylabel('MSE')\n",
    "plt.xlabel('Epoch')\n",
    "plt.legend(['Validation', 'Train'], loc='upper right')\n",
    "plt.show()"
   ]
  },
  {
   "cell_type": "markdown",
   "metadata": {},
   "source": [
    "❗️ Countrary to first intuition, it can be sometimes better to use the MSE as the loss function in order to get the best MAE possible in the end!\n",
    "\n",
    "<details>\n",
    "    <summary>▶ Why?</summary>\n",
    "\n",
    "Well, even the Deep Learning research community is still trying to answer these types of questions rigorously.\n",
    "    \n",
    "One thing for sure: In Deep Learning, you will never really reach the \"global minimum\" of the true loss function (the one computed using your entire training set as one single \"batch\"). So, in your first model (minimizing the MAE loss), your global MAE minimum has clearly **not** been reached (otherwise you could never beat it). \n",
    "\n",
    "Why? It may well be that the minimization process of the second model has performed better. Maybe because the loss function \"energy map\" is \"smoother\" or more \"convex\" in the case of MSE loss? Or maybe your hyper-parameter are best suited to the MSE than to the MAE loss?\n",
    "\n",
    "</details>"
   ]
  },
  {
   "cell_type": "markdown",
   "metadata": {},
   "source": [
    "### 🧪 Test your model best performance\n",
    "\n",
    "❓ Save your best model performance on the test set at `mae_test` and check it out below"
   ]
  },
  {
   "cell_type": "code",
   "execution_count": 30,
   "metadata": {},
   "outputs": [
    {
     "name": "stdout",
     "output_type": "stream",
     "text": [
      "Epoch 1/100\n",
      " 1/13 [=>............................] - ETA: 4s - loss: 24.4156 - mae: 24.4156\n",
      "Epoch 1: val_mae improved from inf to 23.07843, saving model to model\n",
      "INFO:tensorflow:Assets written to: model\\assets\n",
      "13/13 [==============================] - 2s 115ms/step - loss: 22.3950 - mae: 22.3950 - val_loss: 23.0784 - val_mae: 23.0784\n",
      "Epoch 2/100\n",
      " 1/13 [=>............................] - ETA: 0s - loss: 22.7625 - mae: 22.7625\n",
      "Epoch 2: val_mae did not improve from 23.07843\n",
      "13/13 [==============================] - 0s 5ms/step - loss: 22.3950 - mae: 22.3950 - val_loss: 23.0784 - val_mae: 23.0784\n",
      "Epoch 3/100\n",
      " 1/13 [=>............................] - ETA: 0s - loss: 21.1406 - mae: 21.1406\n",
      "Epoch 3: val_mae did not improve from 23.07843\n",
      "13/13 [==============================] - 0s 4ms/step - loss: 22.3950 - mae: 22.3950 - val_loss: 23.0784 - val_mae: 23.0784\n",
      "Epoch 4/100\n",
      " 1/13 [=>............................] - ETA: 0s - loss: 20.7250 - mae: 20.7250\n",
      "Epoch 4: val_mae did not improve from 23.07843\n",
      "13/13 [==============================] - 0s 4ms/step - loss: 22.3951 - mae: 22.3951 - val_loss: 23.0784 - val_mae: 23.0784\n",
      "Epoch 5/100\n",
      " 1/13 [=>............................] - ETA: 0s - loss: 21.1844 - mae: 21.1844\n",
      "Epoch 5: val_mae did not improve from 23.07843\n",
      "13/13 [==============================] - 0s 4ms/step - loss: 22.3950 - mae: 22.3950 - val_loss: 23.0784 - val_mae: 23.0784\n",
      "Epoch 6/100\n",
      " 1/13 [=>............................] - ETA: 0s - loss: 25.3156 - mae: 25.3156\n",
      "Epoch 6: val_mae did not improve from 23.07843\n",
      "13/13 [==============================] - 0s 5ms/step - loss: 22.3950 - mae: 22.3950 - val_loss: 23.0784 - val_mae: 23.0784\n",
      "Epoch 7/100\n",
      " 1/13 [=>............................] - ETA: 0s - loss: 21.9375 - mae: 21.9375\n",
      "Epoch 7: val_mae did not improve from 23.07843\n",
      "13/13 [==============================] - 0s 4ms/step - loss: 22.3951 - mae: 22.3951 - val_loss: 23.0784 - val_mae: 23.0784\n",
      "Epoch 8/100\n",
      " 1/13 [=>............................] - ETA: 0s - loss: 22.8937 - mae: 22.8937\n",
      "Epoch 8: val_mae did not improve from 23.07843\n",
      "13/13 [==============================] - 0s 4ms/step - loss: 22.3951 - mae: 22.3951 - val_loss: 23.0784 - val_mae: 23.0784\n",
      "Epoch 9/100\n",
      " 1/13 [=>............................] - ETA: 0s - loss: 21.4500 - mae: 21.4500\n",
      "Epoch 9: val_mae did not improve from 23.07843\n",
      "13/13 [==============================] - 0s 4ms/step - loss: 22.3951 - mae: 22.3951 - val_loss: 23.0784 - val_mae: 23.0784\n",
      "Epoch 10/100\n",
      " 1/13 [=>............................] - ETA: 0s - loss: 24.1844 - mae: 24.1844\n",
      "Epoch 10: val_mae did not improve from 23.07843\n",
      "13/13 [==============================] - 0s 4ms/step - loss: 22.3950 - mae: 22.3950 - val_loss: 23.0784 - val_mae: 23.0784\n",
      "Epoch 11/100\n",
      " 1/13 [=>............................] - ETA: 0s - loss: 23.0281 - mae: 23.0281\n",
      "Epoch 11: val_mae did not improve from 23.07843\n",
      "13/13 [==============================] - 0s 4ms/step - loss: 22.3950 - mae: 22.3950 - val_loss: 23.0784 - val_mae: 23.0784\n",
      "Epoch 12/100\n",
      " 1/13 [=>............................] - ETA: 0s - loss: 22.9156 - mae: 22.9156\n",
      "Epoch 12: val_mae did not improve from 23.07843\n",
      "13/13 [==============================] - 0s 3ms/step - loss: 22.3951 - mae: 22.3951 - val_loss: 23.0784 - val_mae: 23.0784\n",
      "Epoch 13/100\n",
      " 1/13 [=>............................] - ETA: 0s - loss: 21.9219 - mae: 21.9219\n",
      "Epoch 13: val_mae did not improve from 23.07843\n",
      "13/13 [==============================] - 0s 5ms/step - loss: 22.3950 - mae: 22.3950 - val_loss: 23.0784 - val_mae: 23.0784\n",
      "Epoch 14/100\n",
      " 1/13 [=>............................] - ETA: 0s - loss: 21.5000 - mae: 21.5000\n",
      "Epoch 14: val_mae did not improve from 23.07843\n",
      "13/13 [==============================] - 0s 4ms/step - loss: 22.3951 - mae: 22.3951 - val_loss: 23.0784 - val_mae: 23.0784\n",
      "Epoch 15/100\n",
      " 1/13 [=>............................] - ETA: 0s - loss: 21.4781 - mae: 21.4781\n",
      "Epoch 15: val_mae did not improve from 23.07843\n",
      "13/13 [==============================] - 0s 5ms/step - loss: 22.3950 - mae: 22.3950 - val_loss: 23.0784 - val_mae: 23.0784\n",
      "Epoch 16/100\n",
      " 1/13 [=>............................] - ETA: 0s - loss: 22.2125 - mae: 22.2125\n",
      "Epoch 16: val_mae did not improve from 23.07843\n",
      "13/13 [==============================] - 0s 4ms/step - loss: 22.3951 - mae: 22.3951 - val_loss: 23.0784 - val_mae: 23.0784\n",
      "Epoch 17/100\n",
      " 1/13 [=>............................] - ETA: 0s - loss: 22.8000 - mae: 22.8000\n",
      "Epoch 17: val_mae did not improve from 23.07843\n",
      "13/13 [==============================] - 0s 4ms/step - loss: 22.3951 - mae: 22.3951 - val_loss: 23.0784 - val_mae: 23.0784\n",
      "Epoch 18/100\n",
      " 1/13 [=>............................] - ETA: 0s - loss: 22.5656 - mae: 22.5656\n",
      "Epoch 18: val_mae did not improve from 23.07843\n",
      "13/13 [==============================] - 0s 4ms/step - loss: 22.3950 - mae: 22.3950 - val_loss: 23.0784 - val_mae: 23.0784\n",
      "Epoch 19/100\n",
      " 1/13 [=>............................] - ETA: 0s - loss: 21.4438 - mae: 21.4438\n",
      "Epoch 19: val_mae did not improve from 23.07843\n",
      "13/13 [==============================] - 0s 3ms/step - loss: 22.3950 - mae: 22.3950 - val_loss: 23.0784 - val_mae: 23.0784\n",
      "Epoch 20/100\n",
      " 1/13 [=>............................] - ETA: 0s - loss: 21.5031 - mae: 21.5031\n",
      "Epoch 20: val_mae did not improve from 23.07843\n",
      "13/13 [==============================] - 0s 4ms/step - loss: 22.3951 - mae: 22.3951 - val_loss: 23.0784 - val_mae: 23.0784\n",
      "Epoch 21/100\n",
      " 1/13 [=>............................] - ETA: 0s - loss: 21.4531 - mae: 21.4531\n",
      "Epoch 21: val_mae did not improve from 23.07843\n",
      "13/13 [==============================] - 0s 4ms/step - loss: 22.3951 - mae: 22.3951 - val_loss: 23.0784 - val_mae: 23.0784\n",
      "Epoch 22/100\n",
      " 1/13 [=>............................] - ETA: 0s - loss: 21.4625 - mae: 21.4625\n",
      "Epoch 22: val_mae did not improve from 23.07843\n",
      "13/13 [==============================] - 0s 4ms/step - loss: 22.3950 - mae: 22.3950 - val_loss: 23.0784 - val_mae: 23.0784\n",
      "Epoch 23/100\n",
      " 1/13 [=>............................] - ETA: 0s - loss: 21.6562 - mae: 21.6562\n",
      "Epoch 23: val_mae did not improve from 23.07843\n",
      "13/13 [==============================] - 0s 4ms/step - loss: 22.3950 - mae: 22.3950 - val_loss: 23.0784 - val_mae: 23.0784\n",
      "Epoch 24/100\n",
      " 1/13 [=>............................] - ETA: 0s - loss: 25.0094 - mae: 25.0094\n",
      "Epoch 24: val_mae did not improve from 23.07843\n",
      "13/13 [==============================] - 0s 4ms/step - loss: 22.3950 - mae: 22.3950 - val_loss: 23.0784 - val_mae: 23.0784\n",
      "Epoch 25/100\n",
      " 1/13 [=>............................] - ETA: 0s - loss: 20.9000 - mae: 20.9000\n",
      "Epoch 25: val_mae did not improve from 23.07843\n",
      "13/13 [==============================] - 0s 5ms/step - loss: 22.3951 - mae: 22.3951 - val_loss: 23.0784 - val_mae: 23.0784\n",
      "Epoch 26/100\n",
      " 1/13 [=>............................] - ETA: 0s - loss: 24.7062 - mae: 24.7062\n",
      "Epoch 26: val_mae did not improve from 23.07843\n",
      "13/13 [==============================] - 0s 4ms/step - loss: 22.3950 - mae: 22.3950 - val_loss: 23.0784 - val_mae: 23.0784\n",
      "Epoch 27/100\n",
      " 1/13 [=>............................] - ETA: 0s - loss: 22.6500 - mae: 22.6500\n",
      "Epoch 27: val_mae did not improve from 23.07843\n",
      "13/13 [==============================] - 0s 3ms/step - loss: 22.3950 - mae: 22.3950 - val_loss: 23.0784 - val_mae: 23.0784\n",
      "Epoch 28/100\n",
      " 1/13 [=>............................] - ETA: 0s - loss: 21.0969 - mae: 21.0969\n",
      "Epoch 28: val_mae did not improve from 23.07843\n",
      "13/13 [==============================] - 0s 5ms/step - loss: 22.3951 - mae: 22.3951 - val_loss: 23.0784 - val_mae: 23.0784\n",
      "Epoch 29/100\n",
      " 1/13 [=>............................] - ETA: 0s - loss: 21.4469 - mae: 21.4469\n",
      "Epoch 29: val_mae did not improve from 23.07843\n",
      "13/13 [==============================] - 0s 4ms/step - loss: 22.3950 - mae: 22.3950 - val_loss: 23.0784 - val_mae: 23.0784\n",
      "Epoch 30/100\n",
      " 1/13 [=>............................] - ETA: 0s - loss: 20.2719 - mae: 20.2719\n",
      "Epoch 30: val_mae did not improve from 23.07843\n",
      "13/13 [==============================] - 0s 4ms/step - loss: 22.3951 - mae: 22.3951 - val_loss: 23.0784 - val_mae: 23.0784\n",
      "Epoch 31/100\n",
      " 1/13 [=>............................] - ETA: 0s - loss: 22.0469 - mae: 22.0469\n",
      "Epoch 31: val_mae did not improve from 23.07843\n",
      "13/13 [==============================] - 0s 3ms/step - loss: 22.3951 - mae: 22.3951 - val_loss: 23.0784 - val_mae: 23.0784\n"
     ]
    },
    {
     "name": "stdout",
     "output_type": "stream",
     "text": [
      "Epoch 32/100\n",
      " 1/13 [=>............................] - ETA: 0s - loss: 21.7812 - mae: 21.7812\n",
      "Epoch 32: val_mae did not improve from 23.07843\n",
      "13/13 [==============================] - 0s 4ms/step - loss: 22.3950 - mae: 22.3950 - val_loss: 23.0784 - val_mae: 23.0784\n",
      "Epoch 33/100\n",
      " 1/13 [=>............................] - ETA: 0s - loss: 24.5844 - mae: 24.5844\n",
      "Epoch 33: val_mae did not improve from 23.07843\n",
      "13/13 [==============================] - 0s 4ms/step - loss: 22.3950 - mae: 22.3950 - val_loss: 23.0784 - val_mae: 23.0784\n",
      "Epoch 34/100\n",
      " 1/13 [=>............................] - ETA: 0s - loss: 24.2750 - mae: 24.2750\n",
      "Epoch 34: val_mae did not improve from 23.07843\n",
      "13/13 [==============================] - 0s 4ms/step - loss: 22.3950 - mae: 22.3950 - val_loss: 23.0784 - val_mae: 23.0784\n",
      "Epoch 35/100\n",
      " 1/13 [=>............................] - ETA: 0s - loss: 23.2625 - mae: 23.2625\n",
      "Epoch 35: val_mae did not improve from 23.07843\n",
      "13/13 [==============================] - 0s 3ms/step - loss: 22.3950 - mae: 22.3950 - val_loss: 23.0784 - val_mae: 23.0784\n",
      "Epoch 36/100\n",
      " 1/13 [=>............................] - ETA: 0s - loss: 23.3000 - mae: 23.3000\n",
      "Epoch 36: val_mae did not improve from 23.07843\n",
      "13/13 [==============================] - 0s 3ms/step - loss: 22.3950 - mae: 22.3950 - val_loss: 23.0784 - val_mae: 23.0784\n",
      "Epoch 37/100\n",
      " 1/13 [=>............................] - ETA: 0s - loss: 24.6469 - mae: 24.6469\n",
      "Epoch 37: val_mae did not improve from 23.07843\n",
      "13/13 [==============================] - 0s 3ms/step - loss: 22.3951 - mae: 22.3951 - val_loss: 23.0784 - val_mae: 23.0784\n",
      "Epoch 38/100\n",
      " 1/13 [=>............................] - ETA: 0s - loss: 22.2094 - mae: 22.2094\n",
      "Epoch 38: val_mae did not improve from 23.07843\n",
      "13/13 [==============================] - 0s 4ms/step - loss: 22.3951 - mae: 22.3951 - val_loss: 23.0784 - val_mae: 23.0784\n",
      "Epoch 39/100\n",
      " 1/13 [=>............................] - ETA: 0s - loss: 22.3563 - mae: 22.3563\n",
      "Epoch 39: val_mae did not improve from 23.07843\n",
      "13/13 [==============================] - 0s 4ms/step - loss: 22.3950 - mae: 22.3950 - val_loss: 23.0784 - val_mae: 23.0784\n",
      "Epoch 40/100\n",
      " 1/13 [=>............................] - ETA: 0s - loss: 21.8969 - mae: 21.8969\n",
      "Epoch 40: val_mae did not improve from 23.07843\n",
      "13/13 [==============================] - 0s 3ms/step - loss: 22.3950 - mae: 22.3950 - val_loss: 23.0784 - val_mae: 23.0784\n",
      "Epoch 41/100\n",
      " 1/13 [=>............................] - ETA: 0s - loss: 23.4062 - mae: 23.4062\n",
      "Epoch 41: val_mae did not improve from 23.07843\n",
      "13/13 [==============================] - 0s 4ms/step - loss: 22.3951 - mae: 22.3951 - val_loss: 23.0784 - val_mae: 23.0784\n",
      "Epoch 42/100\n",
      " 1/13 [=>............................] - ETA: 0s - loss: 24.5781 - mae: 24.5781\n",
      "Epoch 42: val_mae did not improve from 23.07843\n",
      "13/13 [==============================] - 0s 3ms/step - loss: 22.3950 - mae: 22.3950 - val_loss: 23.0784 - val_mae: 23.0784\n",
      "Epoch 43/100\n",
      " 1/13 [=>............................] - ETA: 0s - loss: 19.7250 - mae: 19.7250\n",
      "Epoch 43: val_mae did not improve from 23.07843\n",
      "13/13 [==============================] - 0s 3ms/step - loss: 22.3950 - mae: 22.3950 - val_loss: 23.0784 - val_mae: 23.0784\n",
      "Epoch 44/100\n",
      " 1/13 [=>............................] - ETA: 0s - loss: 22.1063 - mae: 22.1063\n",
      "Epoch 44: val_mae did not improve from 23.07843\n",
      "13/13 [==============================] - 0s 3ms/step - loss: 22.3951 - mae: 22.3951 - val_loss: 23.0784 - val_mae: 23.0784\n",
      "Epoch 45/100\n",
      " 1/13 [=>............................] - ETA: 0s - loss: 23.9688 - mae: 23.9688\n",
      "Epoch 45: val_mae did not improve from 23.07843\n",
      "13/13 [==============================] - 0s 4ms/step - loss: 22.3950 - mae: 22.3950 - val_loss: 23.0784 - val_mae: 23.0784\n",
      "Epoch 46/100\n",
      " 1/13 [=>............................] - ETA: 0s - loss: 21.8094 - mae: 21.8094\n",
      "Epoch 46: val_mae did not improve from 23.07843\n",
      "13/13 [==============================] - 0s 3ms/step - loss: 22.3951 - mae: 22.3951 - val_loss: 23.0784 - val_mae: 23.0784\n",
      "Epoch 47/100\n",
      " 1/13 [=>............................] - ETA: 0s - loss: 24.2062 - mae: 24.2062\n",
      "Epoch 47: val_mae did not improve from 23.07843\n",
      "13/13 [==============================] - 0s 4ms/step - loss: 22.3950 - mae: 22.3950 - val_loss: 23.0784 - val_mae: 23.0784\n",
      "Epoch 48/100\n",
      " 1/13 [=>............................] - ETA: 0s - loss: 22.4375 - mae: 22.4375\n",
      "Epoch 48: val_mae did not improve from 23.07843\n",
      "13/13 [==============================] - 0s 3ms/step - loss: 22.3951 - mae: 22.3951 - val_loss: 23.0784 - val_mae: 23.0784\n",
      "Epoch 49/100\n",
      " 1/13 [=>............................] - ETA: 0s - loss: 19.8281 - mae: 19.8281\n",
      "Epoch 49: val_mae did not improve from 23.07843\n",
      "13/13 [==============================] - 0s 3ms/step - loss: 22.3951 - mae: 22.3951 - val_loss: 23.0784 - val_mae: 23.0784\n",
      "Epoch 50/100\n",
      " 1/13 [=>............................] - ETA: 0s - loss: 20.6656 - mae: 20.6656\n",
      "Epoch 50: val_mae did not improve from 23.07843\n",
      "13/13 [==============================] - 0s 4ms/step - loss: 22.3951 - mae: 22.3951 - val_loss: 23.0784 - val_mae: 23.0784\n",
      "Epoch 51/100\n",
      " 1/13 [=>............................] - ETA: 0s - loss: 24.2281 - mae: 24.2281\n",
      "Epoch 51: val_mae did not improve from 23.07843\n",
      "13/13 [==============================] - 0s 3ms/step - loss: 22.3951 - mae: 22.3951 - val_loss: 23.0784 - val_mae: 23.0784\n",
      "Epoch 52/100\n",
      " 1/13 [=>............................] - ETA: 0s - loss: 24.4375 - mae: 24.4375\n",
      "Epoch 52: val_mae did not improve from 23.07843\n",
      "13/13 [==============================] - 0s 3ms/step - loss: 22.3951 - mae: 22.3951 - val_loss: 23.0784 - val_mae: 23.0784\n",
      "Epoch 53/100\n",
      " 1/13 [=>............................] - ETA: 0s - loss: 21.8219 - mae: 21.8219\n",
      "Epoch 53: val_mae did not improve from 23.07843\n",
      "13/13 [==============================] - 0s 3ms/step - loss: 22.3950 - mae: 22.3950 - val_loss: 23.0784 - val_mae: 23.0784\n",
      "Epoch 54/100\n",
      " 1/13 [=>............................] - ETA: 0s - loss: 22.4844 - mae: 22.4844\n",
      "Epoch 54: val_mae did not improve from 23.07843\n",
      "13/13 [==============================] - 0s 4ms/step - loss: 22.3950 - mae: 22.3950 - val_loss: 23.0784 - val_mae: 23.0784\n",
      "Epoch 55/100\n",
      " 1/13 [=>............................] - ETA: 0s - loss: 24.0344 - mae: 24.0344\n",
      "Epoch 55: val_mae did not improve from 23.07843\n",
      "13/13 [==============================] - 0s 3ms/step - loss: 22.3950 - mae: 22.3950 - val_loss: 23.0784 - val_mae: 23.0784\n",
      "Epoch 56/100\n",
      " 1/13 [=>............................] - ETA: 0s - loss: 25.4000 - mae: 25.4000\n",
      "Epoch 56: val_mae did not improve from 23.07843\n",
      "13/13 [==============================] - 0s 4ms/step - loss: 22.3951 - mae: 22.3951 - val_loss: 23.0784 - val_mae: 23.0784\n",
      "Epoch 57/100\n",
      " 1/13 [=>............................] - ETA: 0s - loss: 22.3781 - mae: 22.3781\n",
      "Epoch 57: val_mae did not improve from 23.07843\n",
      "13/13 [==============================] - 0s 3ms/step - loss: 22.3951 - mae: 22.3951 - val_loss: 23.0784 - val_mae: 23.0784\n",
      "Epoch 58/100\n",
      " 1/13 [=>............................] - ETA: 0s - loss: 21.9688 - mae: 21.9688\n",
      "Epoch 58: val_mae did not improve from 23.07843\n",
      "13/13 [==============================] - 0s 4ms/step - loss: 22.3950 - mae: 22.3950 - val_loss: 23.0784 - val_mae: 23.0784\n",
      "Epoch 59/100\n",
      " 1/13 [=>............................] - ETA: 0s - loss: 20.6781 - mae: 20.6781\n",
      "Epoch 59: val_mae did not improve from 23.07843\n",
      "13/13 [==============================] - 0s 3ms/step - loss: 22.3951 - mae: 22.3951 - val_loss: 23.0784 - val_mae: 23.0784\n",
      "Epoch 60/100\n",
      " 1/13 [=>............................] - ETA: 0s - loss: 25.1125 - mae: 25.1125\n",
      "Epoch 60: val_mae did not improve from 23.07843\n",
      "13/13 [==============================] - 0s 4ms/step - loss: 22.3951 - mae: 22.3951 - val_loss: 23.0784 - val_mae: 23.0784\n",
      "Epoch 61/100\n",
      " 1/13 [=>............................] - ETA: 0s - loss: 22.0875 - mae: 22.0875\n",
      "Epoch 61: val_mae did not improve from 23.07843\n",
      "13/13 [==============================] - 0s 4ms/step - loss: 22.3951 - mae: 22.3951 - val_loss: 23.0784 - val_mae: 23.0784\n",
      "Epoch 62/100\n",
      " 1/13 [=>............................] - ETA: 0s - loss: 20.4344 - mae: 20.4344\n",
      "Epoch 62: val_mae did not improve from 23.07843\n",
      "13/13 [==============================] - 0s 3ms/step - loss: 22.3950 - mae: 22.3950 - val_loss: 23.0784 - val_mae: 23.0784\n",
      "Epoch 63/100\n"
     ]
    },
    {
     "name": "stdout",
     "output_type": "stream",
     "text": [
      " 1/13 [=>............................] - ETA: 0s - loss: 21.3156 - mae: 21.3156\n",
      "Epoch 63: val_mae did not improve from 23.07843\n",
      "13/13 [==============================] - 0s 3ms/step - loss: 22.3950 - mae: 22.3950 - val_loss: 23.0784 - val_mae: 23.0784\n",
      "Epoch 64/100\n",
      " 1/13 [=>............................] - ETA: 0s - loss: 24.9062 - mae: 24.9062\n",
      "Epoch 64: val_mae did not improve from 23.07843\n",
      "13/13 [==============================] - 0s 3ms/step - loss: 22.3950 - mae: 22.3950 - val_loss: 23.0784 - val_mae: 23.0784\n",
      "Epoch 65/100\n",
      " 1/13 [=>............................] - ETA: 0s - loss: 21.3937 - mae: 21.3937\n",
      "Epoch 65: val_mae did not improve from 23.07843\n",
      "13/13 [==============================] - 0s 4ms/step - loss: 22.3951 - mae: 22.3951 - val_loss: 23.0784 - val_mae: 23.0784\n",
      "Epoch 66/100\n",
      " 1/13 [=>............................] - ETA: 0s - loss: 22.9000 - mae: 22.9000\n",
      "Epoch 66: val_mae did not improve from 23.07843\n",
      "13/13 [==============================] - 0s 3ms/step - loss: 22.3951 - mae: 22.3951 - val_loss: 23.0784 - val_mae: 23.0784\n",
      "Epoch 67/100\n",
      " 1/13 [=>............................] - ETA: 0s - loss: 24.6813 - mae: 24.6813\n",
      "Epoch 67: val_mae did not improve from 23.07843\n",
      "13/13 [==============================] - 0s 3ms/step - loss: 22.3950 - mae: 22.3950 - val_loss: 23.0784 - val_mae: 23.0784\n",
      "Epoch 68/100\n",
      " 1/13 [=>............................] - ETA: 0s - loss: 23.3500 - mae: 23.3500\n",
      "Epoch 68: val_mae did not improve from 23.07843\n",
      "13/13 [==============================] - 0s 4ms/step - loss: 22.3950 - mae: 22.3950 - val_loss: 23.0784 - val_mae: 23.0784\n",
      "Epoch 69/100\n",
      " 1/13 [=>............................] - ETA: 0s - loss: 21.2125 - mae: 21.2125\n",
      "Epoch 69: val_mae did not improve from 23.07843\n",
      "13/13 [==============================] - 0s 4ms/step - loss: 22.3950 - mae: 22.3950 - val_loss: 23.0784 - val_mae: 23.0784\n",
      "Epoch 70/100\n",
      " 1/13 [=>............................] - ETA: 0s - loss: 21.8344 - mae: 21.8344\n",
      "Epoch 70: val_mae did not improve from 23.07843\n",
      "13/13 [==============================] - 0s 3ms/step - loss: 22.3951 - mae: 22.3951 - val_loss: 23.0784 - val_mae: 23.0784\n",
      "Epoch 71/100\n",
      " 1/13 [=>............................] - ETA: 0s - loss: 22.5125 - mae: 22.5125\n",
      "Epoch 71: val_mae did not improve from 23.07843\n",
      "13/13 [==============================] - 0s 4ms/step - loss: 22.3950 - mae: 22.3950 - val_loss: 23.0784 - val_mae: 23.0784\n",
      "Epoch 72/100\n",
      " 1/13 [=>............................] - ETA: 0s - loss: 26.3906 - mae: 26.3906\n",
      "Epoch 72: val_mae did not improve from 23.07843\n",
      "13/13 [==============================] - 0s 4ms/step - loss: 22.3950 - mae: 22.3950 - val_loss: 23.0784 - val_mae: 23.0784\n",
      "Epoch 73/100\n",
      " 1/13 [=>............................] - ETA: 0s - loss: 23.5938 - mae: 23.5938\n",
      "Epoch 73: val_mae did not improve from 23.07843\n",
      "13/13 [==============================] - 0s 4ms/step - loss: 22.3950 - mae: 22.3950 - val_loss: 23.0784 - val_mae: 23.0784\n",
      "Epoch 74/100\n",
      " 1/13 [=>............................] - ETA: 0s - loss: 21.7594 - mae: 21.7594\n",
      "Epoch 74: val_mae did not improve from 23.07843\n",
      "13/13 [==============================] - 0s 4ms/step - loss: 22.3950 - mae: 22.3950 - val_loss: 23.0784 - val_mae: 23.0784\n",
      "Epoch 75/100\n",
      " 1/13 [=>............................] - ETA: 0s - loss: 23.6938 - mae: 23.6938\n",
      "Epoch 75: val_mae did not improve from 23.07843\n",
      "13/13 [==============================] - 0s 3ms/step - loss: 22.3951 - mae: 22.3951 - val_loss: 23.0784 - val_mae: 23.0784\n",
      "Epoch 76/100\n",
      " 1/13 [=>............................] - ETA: 0s - loss: 22.0312 - mae: 22.0312\n",
      "Epoch 76: val_mae did not improve from 23.07843\n",
      "13/13 [==============================] - 0s 4ms/step - loss: 22.3950 - mae: 22.3950 - val_loss: 23.0784 - val_mae: 23.0784\n",
      "Epoch 77/100\n",
      " 1/13 [=>............................] - ETA: 0s - loss: 21.8844 - mae: 21.8844\n",
      "Epoch 77: val_mae did not improve from 23.07843\n",
      "13/13 [==============================] - 0s 4ms/step - loss: 22.3950 - mae: 22.3950 - val_loss: 23.0784 - val_mae: 23.0784\n",
      "Epoch 78/100\n",
      " 1/13 [=>............................] - ETA: 0s - loss: 21.9406 - mae: 21.9406\n",
      "Epoch 78: val_mae did not improve from 23.07843\n",
      "13/13 [==============================] - 0s 4ms/step - loss: 22.3950 - mae: 22.3950 - val_loss: 23.0784 - val_mae: 23.0784\n",
      "Epoch 79/100\n",
      " 1/13 [=>............................] - ETA: 0s - loss: 21.9438 - mae: 21.9438\n",
      "Epoch 79: val_mae did not improve from 23.07843\n",
      "13/13 [==============================] - 0s 3ms/step - loss: 22.3950 - mae: 22.3950 - val_loss: 23.0784 - val_mae: 23.0784\n",
      "Epoch 80/100\n",
      " 1/13 [=>............................] - ETA: 0s - loss: 22.5719 - mae: 22.5719\n",
      "Epoch 80: val_mae did not improve from 23.07843\n",
      "13/13 [==============================] - 0s 4ms/step - loss: 22.3950 - mae: 22.3950 - val_loss: 23.0784 - val_mae: 23.0784\n",
      "Epoch 81/100\n",
      " 1/13 [=>............................] - ETA: 0s - loss: 23.7719 - mae: 23.7719\n",
      "Epoch 81: val_mae did not improve from 23.07843\n",
      "13/13 [==============================] - 0s 3ms/step - loss: 22.3950 - mae: 22.3950 - val_loss: 23.0784 - val_mae: 23.0784\n",
      "Epoch 82/100\n",
      " 1/13 [=>............................] - ETA: 0s - loss: 21.4281 - mae: 21.4281\n",
      "Epoch 82: val_mae did not improve from 23.07843\n",
      "13/13 [==============================] - 0s 3ms/step - loss: 22.3950 - mae: 22.3950 - val_loss: 23.0784 - val_mae: 23.0784\n",
      "Epoch 83/100\n",
      " 1/13 [=>............................] - ETA: 0s - loss: 23.5781 - mae: 23.5781\n",
      "Epoch 83: val_mae did not improve from 23.07843\n",
      "13/13 [==============================] - 0s 3ms/step - loss: 22.3951 - mae: 22.3951 - val_loss: 23.0784 - val_mae: 23.0784\n",
      "Epoch 84/100\n",
      " 1/13 [=>............................] - ETA: 0s - loss: 20.2594 - mae: 20.2594\n",
      "Epoch 84: val_mae did not improve from 23.07843\n",
      "13/13 [==============================] - 0s 4ms/step - loss: 22.3950 - mae: 22.3950 - val_loss: 23.0784 - val_mae: 23.0784\n",
      "Epoch 85/100\n",
      " 1/13 [=>............................] - ETA: 0s - loss: 24.4500 - mae: 24.4500\n",
      "Epoch 85: val_mae did not improve from 23.07843\n",
      "13/13 [==============================] - 0s 4ms/step - loss: 22.3950 - mae: 22.3950 - val_loss: 23.0784 - val_mae: 23.0784\n",
      "Epoch 86/100\n",
      " 1/13 [=>............................] - ETA: 0s - loss: 22.1437 - mae: 22.1437\n",
      "Epoch 86: val_mae did not improve from 23.07843\n",
      "13/13 [==============================] - 0s 3ms/step - loss: 22.3950 - mae: 22.3950 - val_loss: 23.0784 - val_mae: 23.0784\n",
      "Epoch 87/100\n",
      " 1/13 [=>............................] - ETA: 0s - loss: 25.0250 - mae: 25.0250\n",
      "Epoch 87: val_mae did not improve from 23.07843\n",
      "13/13 [==============================] - 0s 4ms/step - loss: 22.3950 - mae: 22.3950 - val_loss: 23.0784 - val_mae: 23.0784\n",
      "Epoch 88/100\n",
      " 1/13 [=>............................] - ETA: 0s - loss: 22.8219 - mae: 22.8219\n",
      "Epoch 88: val_mae did not improve from 23.07843\n",
      "13/13 [==============================] - 0s 5ms/step - loss: 22.3951 - mae: 22.3951 - val_loss: 23.0784 - val_mae: 23.0784\n",
      "Epoch 89/100\n",
      " 1/13 [=>............................] - ETA: 0s - loss: 21.9656 - mae: 21.9656\n",
      "Epoch 89: val_mae did not improve from 23.07843\n",
      "13/13 [==============================] - 0s 3ms/step - loss: 22.3951 - mae: 22.3951 - val_loss: 23.0784 - val_mae: 23.0784\n",
      "Epoch 90/100\n",
      " 1/13 [=>............................] - ETA: 0s - loss: 22.8031 - mae: 22.8031\n",
      "Epoch 90: val_mae did not improve from 23.07843\n",
      "13/13 [==============================] - 0s 3ms/step - loss: 22.3950 - mae: 22.3950 - val_loss: 23.0784 - val_mae: 23.0784\n",
      "Epoch 91/100\n",
      " 1/13 [=>............................] - ETA: 0s - loss: 22.4437 - mae: 22.4437\n",
      "Epoch 91: val_mae did not improve from 23.07843\n",
      "13/13 [==============================] - 0s 4ms/step - loss: 22.3950 - mae: 22.3950 - val_loss: 23.0784 - val_mae: 23.0784\n",
      "Epoch 92/100\n",
      " 1/13 [=>............................] - ETA: 0s - loss: 20.7250 - mae: 20.7250\n",
      "Epoch 92: val_mae did not improve from 23.07843\n",
      "13/13 [==============================] - 0s 3ms/step - loss: 22.3951 - mae: 22.3951 - val_loss: 23.0784 - val_mae: 23.0784\n",
      "Epoch 93/100\n",
      " 1/13 [=>............................] - ETA: 0s - loss: 25.8438 - mae: 25.8438\n",
      "Epoch 93: val_mae did not improve from 23.07843\n",
      "13/13 [==============================] - 0s 3ms/step - loss: 22.3950 - mae: 22.3950 - val_loss: 23.0784 - val_mae: 23.0784\n",
      "Epoch 94/100\n"
     ]
    },
    {
     "name": "stdout",
     "output_type": "stream",
     "text": [
      " 1/13 [=>............................] - ETA: 0s - loss: 23.1313 - mae: 23.1313\n",
      "Epoch 94: val_mae did not improve from 23.07843\n",
      "13/13 [==============================] - 0s 3ms/step - loss: 22.3950 - mae: 22.3950 - val_loss: 23.0784 - val_mae: 23.0784\n",
      "Epoch 95/100\n",
      " 1/13 [=>............................] - ETA: 0s - loss: 21.8969 - mae: 21.8969\n",
      "Epoch 95: val_mae did not improve from 23.07843\n",
      "13/13 [==============================] - 0s 4ms/step - loss: 22.3950 - mae: 22.3950 - val_loss: 23.0784 - val_mae: 23.0784\n",
      "Epoch 96/100\n",
      " 1/13 [=>............................] - ETA: 0s - loss: 21.1781 - mae: 21.1781\n",
      "Epoch 96: val_mae did not improve from 23.07843\n",
      "13/13 [==============================] - 0s 4ms/step - loss: 22.3950 - mae: 22.3950 - val_loss: 23.0784 - val_mae: 23.0784\n",
      "Epoch 97/100\n",
      " 1/13 [=>............................] - ETA: 0s - loss: 22.6875 - mae: 22.6875\n",
      "Epoch 97: val_mae did not improve from 23.07843\n",
      "13/13 [==============================] - 0s 3ms/step - loss: 22.3950 - mae: 22.3950 - val_loss: 23.0784 - val_mae: 23.0784\n",
      "Epoch 98/100\n",
      " 1/13 [=>............................] - ETA: 0s - loss: 25.5469 - mae: 25.5469\n",
      "Epoch 98: val_mae did not improve from 23.07843\n",
      "13/13 [==============================] - 0s 3ms/step - loss: 22.3951 - mae: 22.3951 - val_loss: 23.0784 - val_mae: 23.0784\n",
      "Epoch 99/100\n",
      " 1/13 [=>............................] - ETA: 0s - loss: 23.4719 - mae: 23.4719\n",
      "Epoch 99: val_mae did not improve from 23.07843\n",
      "13/13 [==============================] - 0s 4ms/step - loss: 22.3950 - mae: 22.3950 - val_loss: 23.0784 - val_mae: 23.0784\n",
      "Epoch 100/100\n",
      " 1/13 [=>............................] - ETA: 0s - loss: 20.8219 - mae: 20.8219\n",
      "Epoch 100: val_mae did not improve from 23.07843\n",
      "13/13 [==============================] - 0s 4ms/step - loss: 22.3950 - mae: 22.3950 - val_loss: 23.0784 - val_mae: 23.0784\n"
     ]
    }
   ],
   "source": [
    "model.compile(loss='mae', optimizer='adam', metrics=['mae'])\n",
    "\n",
    "mae_test = ModelCheckpoint(filepath='model', \n",
    "                               verbose=1, save_best_only=True, \n",
    "                               monitor='val_mae')\n",
    "\n",
    "\n",
    "history = model.fit(X_train, y_train, epochs=100, batch_size=32, validation_data=(X_test, y_test), callbacks=[mae_test])"
   ]
  },
  {
   "cell_type": "markdown",
   "metadata": {},
   "source": [
    "# 4 : Save and load a model\n",
    "\n",
    "❓ **Question** ❓  Save your model using `.save_model(model, 'name_of_my_model')` method that you can find [here](https://www.tensorflow.org/api_docs/python/tf/keras/models/save_model).."
   ]
  },
  {
   "cell_type": "markdown",
   "metadata": {},
   "source": [
    "❓ **Question** ❓ Now, in a variable that you will call `loaded_model`, load the model you just saved thanks to `.load_model('name_of_your_model')` [(documentation here)](https://www.tensorflow.org/api_docs/python/tf/keras/models/load_model), and evaluate it on the test data to check that it gives the same result as before."
   ]
  },
  {
   "cell_type": "code",
   "execution_count": 33,
   "metadata": {
    "tags": [
     "challengify"
    ]
   },
   "outputs": [
    {
     "name": "stdout",
     "output_type": "stream",
     "text": [
      "Best MAE on test set: 23.0784\n"
     ]
    }
   ],
   "source": [
    "model = load_model('model')\n",
    "mae = model.evaluate(X_test, y_test, verbose=0)[1]\n",
    "print(f'Best MAE on test set: {mae:.4f}')"
   ]
  },
  {
   "cell_type": "markdown",
   "metadata": {},
   "source": [
    "## (Optional) `Exponential Decay` for the Optimizer's Learning Rate\n",
    "\n",
    "The next question is not essential and can be skipped as many algorithms can be run without such optimization. \n",
    "\n",
    "Instead of keeping a fixed learning rate, you can change it from one iteration to the other, with the intuition that at first, you need large learning rates, and as the neural network converges and get closer to the minimum loss value, you can decrease the value of the learning rate. This is called a **`scheduler`**. \n",
    "\n",
    "❓ **Question** ❓ Use the [Exponential Decay Scheduler](https://www.tensorflow.org/api_docs/python/tf/keras/optimizers/schedules/ExponentialDecay) in the `adam` optimizer and run it on the previous data. Start with the following:\n",
    "\n",
    "```python\n",
    "initial_learning_rate = 0.001 # start with default ADAM value\n",
    "\n",
    "lr_schedule = ExponentialDecay(\n",
    "    # Every 5000 iterations, multiply the learning rate by 0.7\n",
    "    initial_learning_rate, decay_steps=5000, decay_rate=0.7,\n",
    ")\n",
    "```"
   ]
  },
  {
   "cell_type": "code",
   "execution_count": 17,
   "metadata": {},
   "outputs": [],
   "source": [
    "# YOUR CODE HERE"
   ]
  },
  {
   "cell_type": "code",
   "execution_count": null,
   "metadata": {},
   "outputs": [],
   "source": []
  }
 ],
 "metadata": {
  "kernelspec": {
   "display_name": "Python 3 (ipykernel)",
   "language": "python",
   "name": "python3"
  },
  "language_info": {
   "codemirror_mode": {
    "name": "ipython",
    "version": 3
   },
   "file_extension": ".py",
   "mimetype": "text/x-python",
   "name": "python",
   "nbconvert_exporter": "python",
   "pygments_lexer": "ipython3",
   "version": "3.9.12"
  }
 },
 "nbformat": 4,
 "nbformat_minor": 2
}
