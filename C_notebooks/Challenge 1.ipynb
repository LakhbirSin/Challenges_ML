{
 "cells": [
  {
   "cell_type": "code",
   "execution_count": 1,
   "id": "a8e2851f",
   "metadata": {},
   "outputs": [],
   "source": [
    "import pandas as pd\n",
    "import math as math"
   ]
  },
  {
   "cell_type": "code",
   "execution_count": 2,
   "id": "b1617557",
   "metadata": {},
   "outputs": [],
   "source": [
    "X = [1,-3.1,-7.2,2.1]"
   ]
  },
  {
   "cell_type": "code",
   "execution_count": 3,
   "id": "551cd360",
   "metadata": {},
   "outputs": [],
   "source": [
    "def lin_reg(l):\n",
    "    result =  -3 + 2.1 * l[0] + 1.2 * l[1] + 0.3 * l[2] + 1.3 * l[3]\n",
    "    return result"
   ]
  },
  {
   "cell_type": "code",
   "execution_count": 4,
   "id": "e1b8968b",
   "metadata": {},
   "outputs": [
    {
     "data": {
      "text/plain": [
       "-4.049999999999999"
      ]
     },
     "execution_count": 4,
     "metadata": {},
     "output_type": "execute_result"
    }
   ],
   "source": [
    "lin_reg(X)"
   ]
  },
  {
   "cell_type": "code",
   "execution_count": 5,
   "id": "e96fa554",
   "metadata": {},
   "outputs": [],
   "source": [
    "def activation(x):\n",
    "    if x > 0:\n",
    "        return x\n",
    "    else:\n",
    "        return 0"
   ]
  },
  {
   "cell_type": "code",
   "execution_count": 6,
   "id": "82671453",
   "metadata": {},
   "outputs": [
    {
     "data": {
      "text/plain": [
       "0"
      ]
     },
     "execution_count": 6,
     "metadata": {},
     "output_type": "execute_result"
    }
   ],
   "source": [
    "out1=activation(lin_reg(X))\n",
    "out1"
   ]
  },
  {
   "cell_type": "code",
   "execution_count": 7,
   "id": "f0c47fb2",
   "metadata": {},
   "outputs": [],
   "source": [
    "def lin_reg2(l):\n",
    "    result =  -5 + 0.1 * l[0] + 1.2 * l[1] + 4.9 * l[2] + 3.1 * l[3]\n",
    "    return result"
   ]
  },
  {
   "cell_type": "code",
   "execution_count": 8,
   "id": "63fb5518",
   "metadata": {},
   "outputs": [
    {
     "data": {
      "text/plain": [
       "-37.39000000000001"
      ]
     },
     "execution_count": 8,
     "metadata": {},
     "output_type": "execute_result"
    }
   ],
   "source": [
    "lin_reg2(X)"
   ]
  },
  {
   "cell_type": "code",
   "execution_count": 9,
   "id": "d26269ef",
   "metadata": {},
   "outputs": [
    {
     "data": {
      "text/plain": [
       "0"
      ]
     },
     "execution_count": 9,
     "metadata": {},
     "output_type": "execute_result"
    }
   ],
   "source": [
    "out2=activation(lin_reg(X))\n",
    "out2"
   ]
  },
  {
   "cell_type": "code",
   "execution_count": 10,
   "id": "9b4ef529",
   "metadata": {},
   "outputs": [],
   "source": [
    "def lin_reg3(l):\n",
    "    result =  -8 + 0.4 * l[0] + 2.6 * l[1] + 2.5 * l[2] + 3.8 * l[3]\n",
    "    return result"
   ]
  },
  {
   "cell_type": "code",
   "execution_count": 11,
   "id": "372fa9d7",
   "metadata": {},
   "outputs": [
    {
     "data": {
      "text/plain": [
       "-25.679999999999996"
      ]
     },
     "execution_count": 11,
     "metadata": {},
     "output_type": "execute_result"
    }
   ],
   "source": [
    "lin_reg3(X)"
   ]
  },
  {
   "cell_type": "code",
   "execution_count": 12,
   "id": "99503c0a",
   "metadata": {},
   "outputs": [
    {
     "data": {
      "text/plain": [
       "0"
      ]
     },
     "execution_count": 12,
     "metadata": {},
     "output_type": "execute_result"
    }
   ],
   "source": [
    "out3=activation(lin_reg(X))\n",
    "out3"
   ]
  },
  {
   "cell_type": "code",
   "execution_count": 13,
   "id": "aa96cac1",
   "metadata": {},
   "outputs": [],
   "source": [
    "O = [out1,out2,out3]"
   ]
  },
  {
   "cell_type": "code",
   "execution_count": 14,
   "id": "9e1b4b68",
   "metadata": {},
   "outputs": [],
   "source": [
    "def l_next_l(n):\n",
    "    result = 5.1 + 1.1 * n[0] + -4.1 * n[1] + 0.7 * n[2]\n",
    "    return result"
   ]
  },
  {
   "cell_type": "code",
   "execution_count": 15,
   "id": "973f2e8c",
   "metadata": {},
   "outputs": [],
   "source": [
    "def activation_next(a):\n",
    "    y= a*-1\n",
    "    z= math.exp(y) + 1\n",
    "    c= 1/z\n",
    "    return c"
   ]
  },
  {
   "cell_type": "code",
   "execution_count": 16,
   "id": "2ebee937",
   "metadata": {},
   "outputs": [],
   "source": [
    "y_pred = activation_next(l_next_l(O))"
   ]
  },
  {
   "cell_type": "code",
   "execution_count": 17,
   "id": "904329a6",
   "metadata": {},
   "outputs": [
    {
     "data": {
      "text/plain": [
       "0.9939401985084158"
      ]
     },
     "execution_count": 17,
     "metadata": {},
     "output_type": "execute_result"
    }
   ],
   "source": [
    "y_pred"
   ]
  },
  {
   "cell_type": "code",
   "execution_count": null,
   "id": "c5a96327",
   "metadata": {},
   "outputs": [],
   "source": []
  }
 ],
 "metadata": {
  "kernelspec": {
   "display_name": "Python 3 (ipykernel)",
   "language": "python",
   "name": "python3"
  },
  "language_info": {
   "codemirror_mode": {
    "name": "ipython",
    "version": 3
   },
   "file_extension": ".py",
   "mimetype": "text/x-python",
   "name": "python",
   "nbconvert_exporter": "python",
   "pygments_lexer": "ipython3",
   "version": "3.9.12"
  }
 },
 "nbformat": 4,
 "nbformat_minor": 5
}
